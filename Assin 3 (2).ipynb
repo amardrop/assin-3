{
 "cells": [
  {
   "cell_type": "markdown",
   "id": "f2a23d6d-3dee-4e09-9366-bdf4607ed49b",
   "metadata": {},
   "source": [
    "Q1. Explain with an example each when to use a for loop and a while loop."
   ]
  },
  {
   "cell_type": "markdown",
   "id": "c239172e-a643-4029-896a-481cd02bc532",
   "metadata": {},
   "source": [
    "Ans. When you know how many times you want to iterate over a sequence or a range of numbers, you can use a for loop. A while loop, on the other hand, is better suited when you want to repeat a block of code while a certain condition is met but don't know how many iterations will be required.\n",
    "\n",
    "Example of a for loop:"
   ]
  },
  {
   "cell_type": "code",
   "execution_count": 3,
   "id": "b72ee185-3a90-4173-ad7d-323317fc9198",
   "metadata": {},
   "outputs": [
    {
     "name": "stdout",
     "output_type": "stream",
     "text": [
      "Hello, Alice\n",
      "Hello, Bob\n",
      "Hello, Charlie\n"
     ]
    }
   ],
   "source": [
    "# Iterate over a list of names\n",
    "names = [\"Alice\", \"Bob\", \"Charlie\"]\n",
    "for name in names:\n",
    "    print(\"Hello, \" + name + \"\")\n"
   ]
  },
  {
   "cell_type": "markdown",
   "id": "9eca334b-1039-4b21-8726-2d04c9ea75c0",
   "metadata": {},
   "source": [
    "Example of a while loop:"
   ]
  },
  {
   "cell_type": "code",
   "execution_count": 4,
   "id": "f3c154ee-86cf-4f5d-9c6f-1be6bb177584",
   "metadata": {},
   "outputs": [
    {
     "name": "stdin",
     "output_type": "stream",
     "text": [
      "Enter an integer:  454\n"
     ]
    },
    {
     "name": "stdout",
     "output_type": "stream",
     "text": [
      "You entered 454\n"
     ]
    }
   ],
   "source": [
    "while True:\n",
    "    try:\n",
    "        num = int(input(\"Enter an integer: \"))\n",
    "        break \n",
    "    except ValueError:\n",
    "        print(\"Invalid input. Please try again.\")\n",
    "print(\"You entered\", num)\n"
   ]
  },
  {
   "cell_type": "markdown",
   "id": "5d41a0ec-f106-4a5a-95ec-2925803af328",
   "metadata": {},
   "source": [
    "Q2. Write a python program to print the sum and product of the first 10 natural numbers using for\n",
    "and while loop."
   ]
  },
  {
   "cell_type": "markdown",
   "id": "814ea2e8-229b-435a-9d83-09d331a4d184",
   "metadata": {},
   "source": [
    "Ans: Example for loop"
   ]
  },
  {
   "cell_type": "code",
   "execution_count": 5,
   "id": "ae18fc3f-2f34-4080-9158-a5f1212a8f0d",
   "metadata": {},
   "outputs": [
    {
     "name": "stdout",
     "output_type": "stream",
     "text": [
      "Sum of the first 10 natural numbers: 55\n",
      "Product of the first 10 natural numbers: 3628800\n"
     ]
    }
   ],
   "source": [
    "sum = 0\n",
    "product = 1\n",
    "for i in range(1,11):\n",
    "    sum+=i\n",
    "    product*=i\n",
    "print(\"Sum of the first 10 natural numbers:\", sum)\n",
    "print(\"Product of the first 10 natural numbers:\", product)\n",
    "    "
   ]
  },
  {
   "cell_type": "code",
   "execution_count": 6,
   "id": "f1ca472c-f01e-4b01-94ef-1f51c718be4e",
   "metadata": {},
   "outputs": [
    {
     "name": "stdout",
     "output_type": "stream",
     "text": [
      "Sum of the first 10 natural numbers: 55\n",
      "Product of the first 10 natural numbers: 3628800\n"
     ]
    }
   ],
   "source": [
    "sum = 0\n",
    "product = 1\n",
    "i = 1\n",
    "while i <= 10 :\n",
    "    sum+=i\n",
    "    product*=i\n",
    "    i+=1\n",
    "print (\"Sum of the first 10 natural numbers:\", sum)\n",
    "print ( \"Product of the first 10 natural numbers:\", product)"
   ]
  },
  {
   "cell_type": "markdown",
   "id": "96312f04-f133-4cd4-8d28-a9399d66bde7",
   "metadata": {},
   "source": [
    "Q3. Create a python program to compute the electricity bill for a household.\n",
    "\n",
    "The per-unit charges in rupees are as follows: For the first 100 units, the user will be charged Rs. 4.5 per\n",
    "unit, for the next 100 units, the user will be charged Rs. 6 per unit, and for the next 100 units, the user will\n",
    "be charged Rs. 10 per unit, After 300 units and above the user will be charged Rs. 20 per unit."
   ]
  },
  {
   "cell_type": "code",
   "execution_count": 11,
   "id": "be936dd1-d4d7-462f-904e-40fd01c54352",
   "metadata": {},
   "outputs": [
    {
     "name": "stdin",
     "output_type": "stream",
     "text": [
      "Enter your electricity unit consuption 310\n"
     ]
    },
    {
     "name": "stdout",
     "output_type": "stream",
     "text": [
      "2250.0\n"
     ]
    }
   ],
   "source": [
    "i = int(input(\"Enter your electricity unit consuption\"))\n",
    "if i <= 100:\n",
    "    bill = i*4.5\n",
    "elif i <= 200 :\n",
    "    bill  = 100*4.5+ (i-100) * 6\n",
    "elif i <= 300 :\n",
    "    bill = 100*4.5+100*6+ (i-200) * 10\n",
    "else: \n",
    "    bill = 100*4.5+100*6+100*10+ (i-300)*20\n",
    "print (bill)\n",
    "    "
   ]
  },
  {
   "cell_type": "markdown",
   "id": "fac8951c-1640-4821-abce-ea153b76312b",
   "metadata": {},
   "source": [
    "Q4. Create a list of numbers from 1 to 100. Use for loop and while loop to calculate the cube of each\n",
    "number and if the cube of that number is divisible by 4 or 5 then append that number in a list and print\n",
    "that list."
   ]
  },
  {
   "cell_type": "code",
   "execution_count": 8,
   "id": "74459f02-2edd-4256-b589-620c5ce63f79",
   "metadata": {},
   "outputs": [
    {
     "name": "stdout",
     "output_type": "stream",
     "text": [
      "[2, 4, 5, 6, 8, 10, 12, 14, 15, 16, 18, 20, 22, 24, 25, 26, 28, 30, 32, 34, 35, 36, 38, 40, 42, 44, 45, 46, 48, 50, 52, 54, 55, 56, 58, 60, 62, 64, 65, 66, 68, 70, 72, 74, 75, 76, 78, 80, 82, 84, 85, 86, 88, 90, 92, 94, 95, 96, 98, 100]\n"
     ]
    }
   ],
   "source": [
    "cubes_for = []\n",
    "divisible_for = []\n",
    "for i in range(1, 101):\n",
    "    cube = i ** 3\n",
    "    cubes_for.append(cube)\n",
    "    if cube % 4 == 0 or cube % 5 == 0:\n",
    "        divisible_for.append(i)\n",
    "print(divisible_for)"
   ]
  },
  {
   "cell_type": "code",
   "execution_count": 9,
   "id": "fd2dacfb-130f-4e24-8003-a42e32c376f0",
   "metadata": {},
   "outputs": [
    {
     "name": "stdout",
     "output_type": "stream",
     "text": [
      "[2, 4, 5, 6, 8, 10, 12, 14, 15, 16, 18, 20, 22, 24, 25, 26, 28, 30, 32, 34, 35, 36, 38, 40, 42, 44, 45, 46, 48, 50, 52, 54, 55, 56, 58, 60, 62, 64, 65, 66, 68, 70, 72, 74, 75, 76, 78, 80, 82, 84, 85, 86, 88, 90, 92, 94, 95, 96, 98, 100]\n"
     ]
    }
   ],
   "source": [
    "cubes_while = []\n",
    "divisible_while = []\n",
    "i = 1\n",
    "while i <= 100:\n",
    "    cube = i ** 3\n",
    "    if cube % 4 == 0 or cube % 5 == 0 :\n",
    "        divisible_while.append(i)\n",
    "    i+=1\n",
    "print (divisible_while)"
   ]
  },
  {
   "cell_type": "markdown",
   "id": "56072181-450e-4a34-82c3-744b54c8b163",
   "metadata": {},
   "source": [
    "Q5. Write a program to filter count vowels in the below-given string.\n",
    "string = \"I want to become a data scientist\""
   ]
  },
  {
   "cell_type": "code",
   "execution_count": 10,
   "id": "df9a4542-df03-4626-b61c-30b6fd15bcce",
   "metadata": {},
   "outputs": [
    {
     "name": "stdout",
     "output_type": "stream",
     "text": [
      "The total number of vowels in the string is: 12\n"
     ]
    }
   ],
   "source": [
    "string =\"I want to become a data scientist\"\n",
    "vowels = {'a', 'e', 'i', 'o', 'u'}\n",
    "count = 0\n",
    "for i in string :\n",
    "    if i.lower() in vowels:\n",
    "        count+=1\n",
    "print(\"The total number of vowels in the string is:\", count) "
   ]
  },
  {
   "cell_type": "code",
   "execution_count": null,
   "id": "d05c5fc0-5646-442c-811b-fadefd34be31",
   "metadata": {},
   "outputs": [],
   "source": []
  }
 ],
 "metadata": {
  "kernelspec": {
   "display_name": "Python 3 (ipykernel)",
   "language": "python",
   "name": "python3"
  },
  "language_info": {
   "codemirror_mode": {
    "name": "ipython",
    "version": 3
   },
   "file_extension": ".py",
   "mimetype": "text/x-python",
   "name": "python",
   "nbconvert_exporter": "python",
   "pygments_lexer": "ipython3",
   "version": "3.10.8"
  }
 },
 "nbformat": 4,
 "nbformat_minor": 5
}
